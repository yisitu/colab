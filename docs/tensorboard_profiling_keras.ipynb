{
  "cells": [
    {
      "cell_type": "markdown",
      "metadata": {
        "id": "view-in-github",
        "colab_type": "text"
      },
      "source": [
        "<a href=\"https://colab.research.google.com/github/yisitu/colab/blob/main/docs/tensorboard_profiling_keras.ipynb\" target=\"_parent\"><img src=\"https://colab.research.google.com/assets/colab-badge.svg\" alt=\"Open In Colab\"/></a>"
      ]
    },
    {
      "cell_type": "markdown",
      "metadata": {
        "id": "djUvWu41mtXa"
      },
      "source": [
        "##### Copyright 2020 The TensorFlow Authors."
      ]
    },
    {
      "cell_type": "code",
      "execution_count": 1,
      "metadata": {
        "cellView": "form",
        "id": "su2RaORHpReL"
      },
      "outputs": [],
      "source": [
        "#@title Licensed under the Apache License, Version 2.0 (the \"License\");\n",
        "# you may not use this file except in compliance with the License.\n",
        "# You may obtain a copy of the License at\n",
        "#\n",
        "# https://www.apache.org/licenses/LICENSE-2.0\n",
        "#\n",
        "# Unless required by applicable law or agreed to in writing, software\n",
        "# distributed under the License is distributed on an \"AS IS\" BASIS,\n",
        "# WITHOUT WARRANTIES OR CONDITIONS OF ANY KIND, either express or implied.\n",
        "# See the License for the specific language governing permissions and\n",
        "# limitations under the License."
      ]
    },
    {
      "cell_type": "markdown",
      "metadata": {
        "id": "NztQK2uFpXT-"
      },
      "source": [
        "# TensorFlow Profiler: Profile model performance\n",
        "\n",
        "<table class=\"tfo-notebook-buttons\" align=\"left\">\n",
        "  <td>\n",
        "    <a target=\"_blank\" href=\"https://www.tensorflow.org/tensorboard/tensorboard_profiling_keras\"><img src=\"https://www.tensorflow.org/images/tf_logo_32px.png\" />View on TensorFlow.org</a>\n",
        "  </td>\n",
        "  <td>\n",
        "    <a target=\"_blank\" href=\"https://colab.research.google.com/github/tensorflow/tensorboard/blob/master/docs/tensorboard_profiling_keras.ipynb\"><img src=\"https://www.tensorflow.org/images/colab_logo_32px.png\" />Run in Google Colab</a>\n",
        "  </td>\n",
        "  <td>\n",
        "    <a target=\"_blank\" href=\"https://github.com/tensorflow/tensorboard/blob/master/docs/tensorboard_profiling_keras.ipynb\"><img src=\"https://www.tensorflow.org/images/GitHub-Mark-32px.png\" />View source on GitHub</a>\n",
        "  </td>\n",
        "  <td>\n",
        "    <a href=\"https://storage.googleapis.com/tensorflow_docs/tensorboard/docs/tensorboard_profiling_keras.ipynb\"><img src=\"https://www.tensorflow.org/images/download_logo_32px.png\" />Download notebook</a>\n",
        "  </td>\n",
        "</table>"
      ]
    },
    {
      "cell_type": "markdown",
      "metadata": {
        "id": "eDXRFe_qp5C3"
      },
      "source": [
        "## Overview\n",
        "Machine learning algorithms are typically computationally expensive. It is thus vital to quantify the performance of your machine learning application to ensure that you are running the most optimized version of your model. Use the TensorFlow Profiler to profile the execution of your TensorFlow code.\n"
      ]
    },
    {
      "cell_type": "markdown",
      "metadata": {
        "id": "DZhGh-G7KoKL"
      },
      "source": [
        "## Setup"
      ]
    },
    {
      "cell_type": "code",
      "execution_count": 2,
      "metadata": {
        "id": "cpS3QzrHkPia"
      },
      "outputs": [],
      "source": [
        "from datetime import datetime\n",
        "from packaging import version\n",
        "\n",
        "import os"
      ]
    },
    {
      "cell_type": "markdown",
      "metadata": {
        "id": "soSoG6CaRJIy"
      },
      "source": [
        "The TensorFlow Profiler requires the latest versions of TensorFlow and TensorBoard (`>=2.2`).\n"
      ]
    },
    {
      "cell_type": "code",
      "execution_count": 3,
      "metadata": {
        "id": "dFWOMyaHkUX5",
        "colab": {
          "base_uri": "https://localhost:8080/"
        },
        "outputId": "1a1ba56f-1248-4846-87f3-4512a06cc282"
      },
      "outputs": [
        {
          "output_type": "stream",
          "name": "stdout",
          "text": [
            "Collecting tensorboard_plugin_profile\n",
            "  Downloading tensorboard_plugin_profile-2.19.0-cp310-none-manylinux2014_x86_64.whl.metadata (5.0 kB)\n",
            "Collecting gviz-api>=1.9.0 (from tensorboard_plugin_profile)\n",
            "  Downloading gviz_api-1.10.0-py2.py3-none-any.whl.metadata (2.6 kB)\n",
            "Requirement already satisfied: protobuf<5.0.0dev,>=3.19.6 in /usr/local/lib/python3.10/dist-packages (from tensorboard_plugin_profile) (4.25.5)\n",
            "Requirement already satisfied: setuptools>=41.0.0 in /usr/local/lib/python3.10/dist-packages (from tensorboard_plugin_profile) (75.1.0)\n",
            "Requirement already satisfied: six>=1.10.0 in /usr/local/lib/python3.10/dist-packages (from tensorboard_plugin_profile) (1.17.0)\n",
            "Requirement already satisfied: werkzeug>=0.11.15 in /usr/local/lib/python3.10/dist-packages (from tensorboard_plugin_profile) (3.1.3)\n",
            "Requirement already satisfied: etils>=1.0.0 in /usr/local/lib/python3.10/dist-packages (from etils[epath]>=1.0.0->tensorboard_plugin_profile) (1.11.0)\n",
            "Requirement already satisfied: fsspec in /usr/local/lib/python3.10/dist-packages (from etils[epath]>=1.0.0->tensorboard_plugin_profile) (2024.10.0)\n",
            "Requirement already satisfied: importlib_resources in /usr/local/lib/python3.10/dist-packages (from etils[epath]>=1.0.0->tensorboard_plugin_profile) (6.4.5)\n",
            "Requirement already satisfied: typing_extensions in /usr/local/lib/python3.10/dist-packages (from etils[epath]>=1.0.0->tensorboard_plugin_profile) (4.12.2)\n",
            "Requirement already satisfied: zipp in /usr/local/lib/python3.10/dist-packages (from etils[epath]>=1.0.0->tensorboard_plugin_profile) (3.21.0)\n",
            "Requirement already satisfied: MarkupSafe>=2.1.1 in /usr/local/lib/python3.10/dist-packages (from werkzeug>=0.11.15->tensorboard_plugin_profile) (3.0.2)\n",
            "Downloading tensorboard_plugin_profile-2.19.0-cp310-none-manylinux2014_x86_64.whl (25.8 MB)\n",
            "\u001b[2K   \u001b[90m━━━━━━━━━━━━━━━━━━━━━━━━━━━━━━━━━━━━━━━━\u001b[0m \u001b[32m25.8/25.8 MB\u001b[0m \u001b[31m53.6 MB/s\u001b[0m eta \u001b[36m0:00:00\u001b[0m\n",
            "\u001b[?25hDownloading gviz_api-1.10.0-py2.py3-none-any.whl (13 kB)\n",
            "Installing collected packages: gviz-api, tensorboard_plugin_profile\n",
            "Successfully installed gviz-api-1.10.0 tensorboard_plugin_profile-2.19.0\n"
          ]
        }
      ],
      "source": [
        "!pip install -U tensorboard_plugin_profile"
      ]
    },
    {
      "cell_type": "code",
      "execution_count": 4,
      "metadata": {
        "id": "zTbE4iwlkW1j",
        "colab": {
          "base_uri": "https://localhost:8080/"
        },
        "outputId": "a9f667e2-297d-4184-9369-b59e2f2a4749"
      },
      "outputs": [
        {
          "output_type": "stream",
          "name": "stdout",
          "text": [
            "TensorFlow version:  2.17.1\n"
          ]
        }
      ],
      "source": [
        "import tensorflow as tf\n",
        "\n",
        "print(\"TensorFlow version: \", tf.__version__)"
      ]
    },
    {
      "cell_type": "markdown",
      "metadata": {
        "id": "iZHbQJzVRfec"
      },
      "source": [
        "Confirm that TensorFlow can access the GPU."
      ]
    },
    {
      "cell_type": "code",
      "execution_count": 5,
      "metadata": {
        "id": "iUGoaffDk9pA",
        "colab": {
          "base_uri": "https://localhost:8080/"
        },
        "outputId": "d1d4ca69-ef43-420e-ece2-8e25f817c1a4"
      },
      "outputs": [
        {
          "output_type": "stream",
          "name": "stdout",
          "text": [
            "Found GPU at: /device:GPU:0\n"
          ]
        }
      ],
      "source": [
        "device_name = tf.test.gpu_device_name()\n",
        "if not device_name:\n",
        "  raise SystemError('GPU device not found')\n",
        "print('Found GPU at: {}'.format(device_name))"
      ]
    },
    {
      "cell_type": "markdown",
      "metadata": {
        "id": "jsM6wgP9RjEZ"
      },
      "source": [
        "## Train an image classification model with TensorBoard callbacks\n",
        "\n",
        "In this tutorial, you explore the capabilities of the TensorFlow Profiler by capturing the performance profile obtained by training a model to classify images in the [MNIST dataset](http://yann.lecun.com/exdb/mnist/)."
      ]
    },
    {
      "cell_type": "markdown",
      "metadata": {
        "id": "co7Bzyoe_3wo"
      },
      "source": [
        "Use TensorFlow datasets to import the training data and split it into training and test sets."
      ]
    },
    {
      "cell_type": "code",
      "execution_count": 6,
      "metadata": {
        "id": "E9iGdPe8knMP"
      },
      "outputs": [],
      "source": [
        "import tensorflow_datasets as tfds\n",
        "#tfds.disable_progress_bar()"
      ]
    },
    {
      "cell_type": "code",
      "execution_count": 7,
      "metadata": {
        "id": "mv5txOxrkq_1"
      },
      "outputs": [],
      "source": [
        "(ds_train, ds_test), ds_info = tfds.load(\n",
        "    'mnist',\n",
        "    split=['train', 'test'],\n",
        "    shuffle_files=True,\n",
        "    as_supervised=True,\n",
        "    with_info=True,\n",
        "    data_dir='/storeroom/',\n",
        ")"
      ]
    },
    {
      "cell_type": "markdown",
      "metadata": {
        "id": "ME7qce4ZAVHS"
      },
      "source": [
        "Preprocess the training and test data by normalizing pixel values to be between 0 and 1."
      ]
    },
    {
      "cell_type": "code",
      "execution_count": 8,
      "metadata": {
        "id": "ZI31gE_3ktiz"
      },
      "outputs": [],
      "source": [
        "def normalize_img(image, label):\n",
        "  \"\"\"Normalizes images: `uint8` -> `float32`.\"\"\"\n",
        "  return tf.cast(image, tf.float32) / 255., label\n",
        "\n",
        "ds_train = ds_train.map(normalize_img)\n",
        "ds_train = ds_train.batch(128)"
      ]
    },
    {
      "cell_type": "code",
      "execution_count": 9,
      "metadata": {
        "id": "2vjIX9O8k0fx"
      },
      "outputs": [],
      "source": [
        "ds_test = ds_test.map(normalize_img)\n",
        "ds_test = ds_test.batch(128)"
      ]
    },
    {
      "cell_type": "markdown",
      "metadata": {
        "id": "-iuvDDOlB6C0"
      },
      "source": [
        "Create the image classification model using Keras."
      ]
    },
    {
      "cell_type": "code",
      "execution_count": 10,
      "metadata": {
        "id": "QabMuRcWk2qr",
        "colab": {
          "base_uri": "https://localhost:8080/"
        },
        "outputId": "f9e0b41e-e3c5-493c-dfa4-4030529cd7c7"
      },
      "outputs": [
        {
          "output_type": "stream",
          "name": "stderr",
          "text": [
            "/usr/local/lib/python3.10/dist-packages/keras/src/layers/reshaping/flatten.py:37: UserWarning: Do not pass an `input_shape`/`input_dim` argument to a layer. When using Sequential models, prefer using an `Input(shape)` object as the first layer in the model instead.\n",
            "  super().__init__(**kwargs)\n"
          ]
        }
      ],
      "source": [
        "model = tf.keras.models.Sequential([\n",
        "  tf.keras.layers.Flatten(input_shape=(28, 28, 1)),\n",
        "  tf.keras.layers.Dense(128,activation='relu'),\n",
        "  tf.keras.layers.Dense(10, activation='softmax')\n",
        "])\n",
        "model.compile(\n",
        "    loss='sparse_categorical_crossentropy',\n",
        "    optimizer=tf.keras.optimizers.Adam(0.001),\n",
        "    metrics=['accuracy']\n",
        ")"
      ]
    },
    {
      "cell_type": "markdown",
      "metadata": {
        "id": "EeMsDliPC346"
      },
      "source": [
        "Create a TensorBoard callback to capture performance profiles and call it while training the model."
      ]
    },
    {
      "cell_type": "code",
      "execution_count": null,
      "metadata": {
        "id": "OkAo1BanlEeB",
        "colab": {
          "base_uri": "https://localhost:8080/"
        },
        "outputId": "9f93bd5d-d412-48bb-96c0-69ef861f6f77"
      },
      "outputs": [
        {
          "output_type": "stream",
          "name": "stdout",
          "text": [
            "Epoch 1/2\n"
          ]
        }
      ],
      "source": [
        "# Create a TensorBoard callback\n",
        "logs = \"/storeroom/logs/\" + datetime.now().strftime(\"%Y%m%d-%H%M%S\")\n",
        "\n",
        "tboard_callback = tf.keras.callbacks.TensorBoard(log_dir = logs,\n",
        "                                                 histogram_freq = 1,\n",
        "                                                 profile_batch = '500,520')\n",
        "\n",
        "model.fit(ds_train,\n",
        "          epochs=2,\n",
        "          validation_data=ds_test,\n",
        "          callbacks = [tboard_callback])"
      ]
    },
    {
      "cell_type": "markdown",
      "metadata": {
        "id": "vUk1fuxADbxA"
      },
      "source": [
        "## Use the TensorFlow Profiler to profile model training performance\n",
        "\n",
        "The TensorFlow Profiler is embedded within TensorBoard. Load TensorBoard using Colab magic and launch it. View the performance profiles by navigating to the **Profile** tab."
      ]
    },
    {
      "cell_type": "code",
      "execution_count": null,
      "metadata": {
        "id": "jqx5wF1Vlwe9"
      },
      "outputs": [],
      "source": [
        "# Load the TensorBoard notebook extension.\n",
        "%load_ext tensorboard"
      ]
    },
    {
      "cell_type": "markdown",
      "metadata": {
        "id": "D5Qb6TxZV3JE"
      },
      "source": [
        "The performance profile for this model is similar to the image below."
      ]
    },
    {
      "cell_type": "code",
      "execution_count": null,
      "metadata": {
        "id": "lugpLFAflkeI"
      },
      "outputs": [],
      "source": [
        "# Launch TensorBoard and navigate to the Profile tab to view performance profile\n",
        "%tensorboard --logdir=logs"
      ]
    },
    {
      "cell_type": "markdown",
      "metadata": {
        "id": "Q2rhYXT2WAyt"
      },
      "source": [
        "<!-- <img class=\"tfo-display-only-on-site\" src=\"https://github.com/tensorflow/tensorboard/blob/master/docs/images/profiler_overview_page_bad_ip.png?raw=1\"/> -->"
      ]
    },
    {
      "cell_type": "markdown",
      "metadata": {
        "id": "L5L2PI_RHhW1"
      },
      "source": [
        "The **Profile** tab opens the Overview page which shows you a high-level summary of your model performance. Looking at the Step-time Graph on the right, you can see that the model is highly input bound (i.e., it spends a lot of time in the data input piepline). The Overview page also gives you recommendations on potential next steps you can follow to optimize your model performance.\n",
        "\n",
        "To understand where the performance bottleneck occurs in the input pipeline, select the **Trace Viewer** from the **Tools** dropdown on the left. The Trace Viewer shows you a timeline of the different events that occured on the CPU and the GPU during the profiling period."
      ]
    },
    {
      "cell_type": "markdown",
      "metadata": {
        "id": "d7KqTo_kUlGX"
      },
      "source": [
        "The Trace Viewer shows multiple event groups on the vertical axis. Each event group has multiple horizontal tracks, filled with trace events. The track is an event timeline for events executed on a thread or a GPU stream. Individual events are the colored, rectangular blocks on the timeline tracks. Time moves from left to right. Navigate the trace events by using the keyboard shortcuts `W` (zoom in), `S` (zoom out), `A` (scroll left), and `D` (scroll right).\n",
        "\n",
        "A single rectangle represents a trace event. Select the mouse cursor icon in the floating tool bar (or use the keyboard shortcut `1`) and click the trace event to analyze it. This will display information about the event, such as its start time and duration.\n",
        "\n",
        "In addition to clicking, you can drag the mouse to select a group of trace events. This will give you a list of all the events in that area along with an event summary. Use the `M` key to measure the time duration of the selected events.\n",
        "\n",
        "Trace events are collected from:\n",
        "\n",
        "*   **CPU:** CPU events are displayed  under an event group named `/host:CPU`. Each track represents a thread on CPU. CPU events include input pipeline events, GPU operation (op) scheduling events, CPU op execution events etc.\n",
        "*   **GPU:** GPU events are displayed under event groups prefixed by `/device:GPU:`. Each event group represents one stream on the GPU."
      ]
    },
    {
      "cell_type": "markdown",
      "metadata": {
        "id": "Fs9ckIorWs6v"
      },
      "source": [
        "## Debug performance bottlenecks\n",
        "\n",
        "Use the Trace Viewer to locate the performance bottlenecks in your input pipeline. The image below is a snapshot of the performance profile.\n",
        "\n",
        "![profiler_trace_viewer_bad_ip](https://github.com/tensorflow/tensorboard/blob/master/docs/images/profiler_trace_viewer_bad_ip.png?raw=1)"
      ]
    },
    {
      "cell_type": "markdown",
      "metadata": {
        "id": "L4rYc-SXYt77"
      },
      "source": [
        "Looking at the event traces, you can see that the GPU is inactive while the `tf_data_iterator_get_next` op is running on the CPU. This op is responsible for processing the input data and sending it to the GPU for training. As a general rule of thumb, it is a good idea to always keep the device (GPU/TPU) active."
      ]
    },
    {
      "cell_type": "markdown",
      "metadata": {
        "id": "K4KJ3S-odd-a"
      },
      "source": [
        "Use the `tf.data` API to optimize the input pipeline. In this case, let's cache the training dataset and prefetch the data to ensure that there is always data available for the GPU to process. See [here](https://www.tensorflow.org/guide/data_performance) for more details on using `tf.data` to optimize your input pipelines.\n"
      ]
    },
    {
      "cell_type": "code",
      "execution_count": null,
      "metadata": {
        "id": "m5JRkpRLk1Gn"
      },
      "outputs": [],
      "source": [
        "(ds_train, ds_test), ds_info = tfds.load(\n",
        "    'mnist',\n",
        "    split=['train', 'test'],\n",
        "    shuffle_files=True,\n",
        "    as_supervised=True,\n",
        "    with_info=True,\n",
        "    data_dir='/storeroom/',\n",
        ")"
      ]
    },
    {
      "cell_type": "code",
      "execution_count": null,
      "metadata": {
        "id": "ZWYYeN-aSP4K"
      },
      "outputs": [],
      "source": [
        "ds_train = ds_train.map(normalize_img)\n",
        "ds_train = ds_train.batch(128)\n",
        "ds_train = ds_train.cache()\n",
        "ds_train = ds_train.prefetch(tf.data.experimental.AUTOTUNE)"
      ]
    },
    {
      "cell_type": "code",
      "execution_count": null,
      "metadata": {
        "id": "9CmH9HkTlF3e"
      },
      "outputs": [],
      "source": [
        "ds_test = ds_test.map(normalize_img)\n",
        "ds_test = ds_test.batch(128)\n",
        "ds_test = ds_test.cache()\n",
        "ds_test = ds_test.prefetch(tf.data.experimental.AUTOTUNE)"
      ]
    },
    {
      "cell_type": "markdown",
      "metadata": {
        "id": "HOl8JJBEgWO-"
      },
      "source": [
        "Train the model again and capture the performance profile by reusing the callback from before."
      ]
    },
    {
      "cell_type": "code",
      "execution_count": null,
      "metadata": {
        "id": "VyOJtCa9gpgv"
      },
      "outputs": [],
      "source": [
        "model.fit(ds_train,\n",
        "          epochs=2,\n",
        "          validation_data=ds_test,\n",
        "          callbacks = [tboard_callback])"
      ]
    },
    {
      "cell_type": "markdown",
      "metadata": {
        "id": "6BMwtncTg4r-"
      },
      "source": [
        "Re-launch TensorBoard and open the **Profile** tab to observe the performance profile for the updated input pipeline."
      ]
    },
    {
      "cell_type": "markdown",
      "metadata": {
        "id": "Jau8ltd5WZYT"
      },
      "source": [
        "The performance profile for the model with the optimized input pipeline is similar to the image below."
      ]
    },
    {
      "cell_type": "code",
      "execution_count": null,
      "metadata": {
        "id": "p6B8_DNBhg_b"
      },
      "outputs": [],
      "source": [
        "%tensorboard --logdir=logs"
      ]
    },
    {
      "cell_type": "code",
      "source": [
        "!pip3 install jax[cuda12]"
      ],
      "metadata": {
        "id": "3FpNbC30d1bG"
      },
      "execution_count": null,
      "outputs": []
    },
    {
      "cell_type": "markdown",
      "metadata": {
        "id": "37SbScJx4ox9"
      },
      "source": [
        "<!-- <img class=\"tfo-display-only-on-site\" src=\"https://github.com/tensorflow/tensorboard/blob/master/docs/images/profiler_overview_page_good_ip.png?raw=1\"/> -->"
      ]
    },
    {
      "cell_type": "code",
      "source": [
        "import jax"
      ],
      "metadata": {
        "id": "hWFgbMj9phxt"
      },
      "execution_count": null,
      "outputs": []
    },
    {
      "cell_type": "code",
      "source": [
        "jax.profiler.start_trace(\"/storeroom/logs/jax\", create_perfetto_link=True, create_perfetto_trace=True)\n",
        "\n",
        "# Run the operations to be profiled\n",
        "key = jax.random.key(0)\n",
        "x = jax.random.normal(key, (5000, 5000))\n",
        "y = x @ x\n",
        "y.block_until_ready()\n",
        "\n",
        "jax.profiler.stop_trace()"
      ],
      "metadata": {
        "id": "cq5Kwc0Cpi5q"
      },
      "execution_count": null,
      "outputs": []
    },
    {
      "cell_type": "markdown",
      "metadata": {
        "id": "sYCj8WzWhhMf"
      },
      "source": [
        "From the Overview page, you can see that the Average Step time has reduced as has the Input Step time. The Step-time Graph also indicates that the model is no longer highly input bound. Open the Trace Viewer to examine the trace events with the optimized input pipeline.\n",
        "\n",
        "![profiler_trace_viewer_good_ip](https://github.com/tensorflow/tensorboard/blob/master/docs/images/profiler_trace_viewer_good_ip.png?raw=1)"
      ]
    },
    {
      "cell_type": "markdown",
      "metadata": {
        "id": "93_SDz-1hzYp"
      },
      "source": [
        "The Trace Viewer shows that the `tf_data_iterator_get_next` op executes much faster. The GPU therefore gets a steady stream of data to perform training and achieves much better utilization through model training."
      ]
    },
    {
      "cell_type": "markdown",
      "metadata": {
        "id": "ZlRwCDoVinHV"
      },
      "source": [
        "## Summary\n",
        "\n",
        "Use the TensorFlow Profiler to profile and debug model training performance. Read the [Profiler guide](https://www.tensorflow.org/guide/profiler) and watch the [Performance profiling in TF 2](https://www.youtube.com/watch?v=pXHAQIhhMhI) talk from the TensorFlow Dev Summit 2020 to learn more about the TensorFlow Profiler."
      ]
    }
  ],
  "metadata": {
    "accelerator": "GPU",
    "colab": {
      "name": "tensorboard_profiling_keras.ipynb",
      "toc_visible": true,
      "provenance": [],
      "include_colab_link": true
    },
    "kernelspec": {
      "display_name": "Python 3",
      "name": "python3"
    }
  },
  "nbformat": 4,
  "nbformat_minor": 0
}